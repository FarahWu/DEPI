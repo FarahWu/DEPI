{
 "cells": [
  {
   "cell_type": "code",
   "execution_count": 4,
   "id": "eaab2944-25c6-428f-9e12-d4995a9bfa11",
   "metadata": {},
   "outputs": [],
   "source": [
    "import requests\n",
    "from bs4 import BeautifulSoup\n",
    "import json"
   ]
  },
  {
   "cell_type": "code",
   "execution_count": 6,
   "id": "166c4e5d-9e29-4b12-98e0-3583f4834924",
   "metadata": {},
   "outputs": [
    {
     "name": "stdout",
     "output_type": "stream",
     "text": [
      "<!DOCTYPE html>\n",
      "\n",
      "<html>\n",
      "\n",
      "    <head>\n",
      "        <title>Web Scraping Task with Form</title>\n",
      "\n",
      "         <style>\n",
      "        body {\n",
      "            font-family: Arial, sans-serif;\n",
      "            margin: 20px;\n",
      "            background-color: #f5f5f5;\n",
      "        }\n",
      "\n",
      "        h1 {\n",
      "            color: darkred;\n",
      "            text-align: center;\n",
      "        }\n",
      "\n",
      "        h2 {\n",
      "            color: darkblue;\n",
      "            font-style: italic;\n",
      "        }\n",
      "\n",
      "        p {\n",
      "            color: #555;\n",
      "            font-size: 14px;\n",
      "        }\n",
      "\n",
      "        img {\n",
      "            width: 250px;\n",
      "            height: auto;\n",
      "            border-radius: 10px;\n",
      "        }\n",
      "\n",
      "        table {\n",
      "            width: 100%;\n",
      "            border-collapse: collapse;\n",
      "            margin: 20px 0;\n",
      "        }\n",
      "\n",
      "        table, th, td {\n",
      "            border: 1px solid #ccc;\n",
      "        }\n",
      "\n",
      "        th {\n",
      "            background-color: #333;\n",
      "            color: white;\n",
      "            padding: 10px;\n",
      "        }\n",
      "\n",
      "        td {\n",
      "            text-align: center;\n",
      "            padding: 10px;\n",
      "        }\n",
      "\n",
      "        .btn {\n",
      "            background-color: darkgreen;\n",
      "            color: white;\n",
      "            border: none;\n",
      "            padding: 10px 20px;\n",
      "            cursor: pointer;\n",
      "            text-transform: uppercase;\n",
      "            font-weight: bold;\n",
      "        }\n",
      "\n",
      "        .btn:hover {\n",
      "            background-color: green;\n",
      "        }\n",
      "\n",
      "        ul {\n",
      "            list-style-type: square;\n",
      "        }\n",
      "\n",
      "        iframe {\n",
      "            display: block;\n",
      "            margin: 20px auto;\n",
      "            border: none;\n",
      "        }\n",
      "\n",
      "        .footer {\n",
      "            background-color: #333;\n",
      "            color: white;\n",
      "            text-align: center;\n",
      "            padding: 10px 0;\n",
      "            margin-top: 30px;\n",
      "        }\n",
      "\n",
      "        .highlight {\n",
      "            background-color: yellow;\n",
      "            font-weight: bold;\n",
      "        }\n",
      "\n",
      "        form {\n",
      "            margin: 20px 0;\n",
      "            background-color: #fff;\n",
      "            padding: 20px;\n",
      "            border: 1px solid #ccc;\n",
      "            border-radius: 5px;\n",
      "        }\n",
      "\n",
      "        form input, form select, form button {\n",
      "            display: block;\n",
      "            margin: 10px 0;\n",
      "            padding: 10px;\n",
      "            width: 100%;\n",
      "            max-width: 400px;\n",
      "            border: 1px solid #ccc;\n",
      "            border-radius: 5px;\n",
      "        }\n",
      "\n",
      "        .products {\n",
      "            display: flex;\n",
      "            flex-wrap: wrap;\n",
      "            justify-content: center;\n",
      "            gap: 20px;\n",
      "            margin-top: 30px;\n",
      "        }\n",
      "\n",
      "        .product-card {\n",
      "            width: 250px;\n",
      "            border: 1px solid #ddd;\n",
      "            border-radius: 8px;\n",
      "            background-color: #fff;\n",
      "            box-shadow: 0 4px 6px rgba(0, 0, 0, 0.1);\n",
      "            text-align: center;\n",
      "            overflow: hidden;\n",
      "            transition: transform 0.3s ease, box-shadow 0.3s ease;\n",
      "        }\n",
      "\n",
      "        .product-card:hover {\n",
      "            transform: translateY(-5px);\n",
      "            box-shadow: 0 8px 12px rgba(0, 0, 0, 0.2);\n",
      "        }\n",
      "\n",
      "        .product-card img {\n",
      "            width: 100%;\n",
      "            height: 150px;\n",
      "            object-fit: cover;\n",
      "        }\n",
      "\n",
      "        .product-card .name {\n",
      "            font-size: 18px;\n",
      "            font-weight: bold;\n",
      "            margin: 15px 0 5px;\n",
      "            color: #333;\n",
      "        }\n",
      "\n",
      "        .product-card .price {\n",
      "            font-size: 16px;\n",
      "            color: #28a745;\n",
      "            margin: 5px 0;\n",
      "        }\n",
      "\n",
      "        .product-card .colors {\n",
      "            font-size: 14px;\n",
      "            color: #666;\n",
      "            margin-bottom: 15px;\n",
      "        }\n",
      "\n",
      "        .product-card button {\n",
      "            background-color: #007bff;\n",
      "            color: white;\n",
      "            border: none;\n",
      "            padding: 10px 20px;\n",
      "            margin: 10px 0;\n",
      "            cursor: pointer;\n",
      "            border-radius: 5px;\n",
      "            font-size: 14px;\n",
      "            transition: background-color 0.3s ease;\n",
      "        }\n",
      "\n",
      "        .product-card button:hover {\n",
      "            background-color: #0056b3;\n",
      "        }\n",
      "    </style>\n",
      "    </head>\n",
      "\n",
      "    <body>\n",
      "        <h1>Web Scraping Practice</h1>\n",
      "        <p>Welcome to the web scraping task! Use your skills to extract the required data from this page.</p>\n",
      "\n",
      "        <h2>Available Products</h2>\n",
      "        <ul>\n",
      "            <li class=\"highlight\">Laptop</li>\n",
      "            <li>Smartphone</li>\n",
      "            <li>Tablet</li>\n",
      "            <li>Smartwatch</li>\n",
      "        </ul>\n",
      "\n",
      "        <h2>Product Table</h2>\n",
      "        <table>\n",
      "            <tr>\n",
      "                <th>Product</th>\n",
      "                <th>Price</th>\n",
      "                <th>In Stock</th>\n",
      "            </tr>\n",
      "            <tr>\n",
      "                <td>Laptop</td>\n",
      "                <td>$1000</td>\n",
      "                <td>Yes</td>\n",
      "            </tr>\n",
      "            <tr>\n",
      "                <td>Smartphone</td>\n",
      "                <td>$800</td>\n",
      "                <td>No</td>\n",
      "            </tr>\n",
      "            <tr>\n",
      "                <td>Tablet</td>\n",
      "                <td>$500</td>\n",
      "                <td>Yes</td>\n",
      "            </tr>\n",
      "        </table>\n",
      "\n",
      "        <h2>Watch This Video</h2>\n",
      "        <iframe width=\"560\" height=\"315\" src=\"https://www.youtube.com/watch?v=ujf9RNuBdCU\"></iframe>\n",
      "        \n",
      "        \n",
      "\n",
      "        \n",
      "        <h2>Contact Us</h2>\n",
      "        <form>\n",
      "            <label for=\"username\">Username:</label>\n",
      "            <input type=\"text\" id=\"username\" name=\"username\" placeholder=\"Enter your username\">\n",
      "\n",
      "            <label for=\"password\">Password:</label>\n",
      "            <input type=\"password\" id=\"password\" name=\"password\" placeholder=\"Enter your password\">\n",
      "\n",
      "            <label for=\"options\">Choose an option:</label>\n",
      "            <select id=\"options\" name=\"options\">\n",
      "                <option value=\"option1\">Option 1</option>\n",
      "                <option value=\"option2\">Option 2</option>\n",
      "                <option value=\"option3\">Option 3</option>\n",
      "            </select>\n",
      "\n",
      "            <label>\n",
      "                <input type=\"checkbox\" name=\"terms\"> I agree to the terms and conditions\n",
      "            </label>\n",
      "\n",
      "            <input type=\"submit\" value=\"Submit\">\n",
      "        </form>\n",
      "\n",
      "<h2>Product Information</h2>\n",
      "<div style=\"display: flex; justify-content: space-around; margin-top: 20px;\">\n",
      "    <div style=\"text-align: center; width: 200px; border: 1px solid #ddd; padding: 10px; border-radius: 5px;\">\n",
      "        <img src=\"book1.jpg\" alt=\"Sharp Objects\" style=\"width: 100%; height: auto; border-radius: 5px;\">\n",
      "        <p><strong>Sharp Objects</strong></p>\n",
      "        <p style=\"color: green;\">£47.82</p>\n",
      "        <p style=\"color: green;\">✔ In stock</p>\n",
      "        <button style=\"background-color: blue; color: white; border: none; padding: 10px 15px; border-radius: 5px; cursor: pointer;\">Add to basket</button>\n",
      "    </div>\n",
      "\n",
      "    <div style=\"text-align: center; width: 200px; border: 1px solid #ddd; padding: 10px; border-radius: 5px;\">\n",
      "        <img src=\"book2.jpg\" alt=\"In a Dark, Dark Wood\" style=\"width: 100%; height: auto; border-radius: 5px;\">\n",
      "        <p><strong>In a Dark, Dark Wood</strong></p>\n",
      "        <p style=\"color: green;\">£19.63</p>\n",
      "        <p style=\"color: green;\">✔ In stock</p>\n",
      "        <button style=\"background-color: blue; color: white; border: none; padding: 10px 15px; border-radius: 5px; cursor: pointer;\">Add to basket</button>\n",
      "    </div>\n",
      "\n",
      "    <div style=\"text-align: center; width: 200px; border: 1px solid #ddd; padding: 10px; border-radius: 5px;\">\n",
      "        <img href=\"http://books.toscrape.com/media/cache/c0/59/c05972805aa7201171b8fc71a5b00292.jpg\" alt=\"The Past Never Ends\" style=\"width: 100%; height: auto; border-radius: 5px;\">\n",
      "        <p><strong>The Past Never Ends</strong></p>\n",
      "        <p style=\"color: green;\">£56.50</p>\n",
      "        <p style=\"color: green;\">✔ In stock</p>\n",
      "        <button style=\"background-color: blue; color: white; border: none; padding: 10px 15px; border-radius: 5px; cursor: pointer;\">Add to basket</button>\n",
      "    </div>\n",
      "\n",
      "    <div style=\"text-align: center; width: 200px; border: 1px solid #ddd; padding: 10px; border-radius: 5px;\">\n",
      "        <img src=\"book4.jpg\" alt=\"A Murder in Time\" style=\"width: 100%; height: auto; border-radius: 5px;\">\n",
      "        <p><strong>A Murder in Time</strong></p>\n",
      "        <p style=\"color: green;\">£16.64</p>\n",
      "        <p style=\"color: green;\"> Out stock</p>\n",
      "        <button style=\"background-color: blue; color: white; border: none; padding: 10px 15px; border-radius: 5px; cursor: pointer;\">Add to basket</button>\n",
      "    </div>\n",
      "</div>\n",
      "\n",
      "    \n",
      "\n",
      "    <h2>Featured Products</h2>\n",
      "    <div class=\"products\">\n",
      "        <div class=\"product-card\" data-id=\"101\">\n",
      "            <img src=\"https://via.placeholder.com/250x150?text=Product+1\" alt=\"Wireless Headphones\">\n",
      "            <p class=\"name\">Wireless Headphones</p>\n",
      "            <p class=\"price\" style=\"display: none;\">$49.99</p>\n",
      "            <p class=\"colors\">Available colors: Black, White, Blue</p>\n",
      "            <button>Add to Basket</button>\n",
      "        </div>\n",
      "        <div class=\"product-card\" data-id=\"102\">\n",
      "            <img src=\"https://via.placeholder.com/250x150?text=Product+2\" alt=\"Smart Speaker\">\n",
      "            <p class=\"name\">Smart Speaker</p>\n",
      "            <p class=\"price\" style=\"display: none;\">$89.99</p>\n",
      "            <p class=\"colors\">Available colors: Grey, Black</p>\n",
      "            <button>Add to Basket</button>\n",
      "        </div>\n",
      "        <div class=\"product-card\" data-id=\"103\">\n",
      "            <img src=\"https://via.placeholder.com/250x150?text=Product+3\" alt=\"Smart Watch\">\n",
      "            <p class=\"name\">Smart Watch</p>\n",
      "            <p class=\"price\" style=\"display: none;\">$149.99</p>\n",
      "            <p class=\"colors\">Available colors: Black, Silver, Gold</p>\n",
      "            <button>Add to Basket</button>\n",
      "        </div>\n",
      "    </div>\n",
      "\n",
      "    <div class=\"footer\">\n",
      "            <p>&copy; 2024 Web Scraping Practice. All Rights Reserved.</p>\n",
      "        </div>\n",
      "    </body>\n",
      "</html>\n",
      "\n"
     ]
    }
   ],
   "source": [
    "#first step get website using HTTP\n",
    "api_url=\"https://www.baraasallout.com/test.html\"\n",
    "\n",
    "page= requests.get(api_url)\n",
    "print(page.text)"
   ]
  },
  {
   "cell_type": "code",
   "execution_count": 7,
   "id": "da9134c6-0643-4004-9716-c60f49494cc7",
   "metadata": {},
   "outputs": [],
   "source": [
    "soup = BeautifulSoup( page.text , 'html.parser')"
   ]
  },
  {
   "cell_type": "code",
   "execution_count": 10,
   "id": "83a8a713-4fb2-473c-8c2a-20ec81e92975",
   "metadata": {},
   "outputs": [
    {
     "data": {
      "text/plain": [
       "[<p>Welcome to the web scraping task! Use your skills to extract the required data from this page.</p>,\n",
       " <p><strong>Sharp Objects</strong></p>,\n",
       " <p style=\"color: green;\">£47.82</p>,\n",
       " <p style=\"color: green;\">✔ In stock</p>,\n",
       " <p><strong>In a Dark, Dark Wood</strong></p>,\n",
       " <p style=\"color: green;\">£19.63</p>,\n",
       " <p style=\"color: green;\">✔ In stock</p>,\n",
       " <p><strong>The Past Never Ends</strong></p>,\n",
       " <p style=\"color: green;\">£56.50</p>,\n",
       " <p style=\"color: green;\">✔ In stock</p>,\n",
       " <p><strong>A Murder in Time</strong></p>,\n",
       " <p style=\"color: green;\">£16.64</p>,\n",
       " <p style=\"color: green;\"> Out stock</p>,\n",
       " <p class=\"name\">Wireless Headphones</p>,\n",
       " <p class=\"price\" style=\"display: none;\">$49.99</p>,\n",
       " <p class=\"colors\">Available colors: Black, White, Blue</p>,\n",
       " <p class=\"name\">Smart Speaker</p>,\n",
       " <p class=\"price\" style=\"display: none;\">$89.99</p>,\n",
       " <p class=\"colors\">Available colors: Grey, Black</p>,\n",
       " <p class=\"name\">Smart Watch</p>,\n",
       " <p class=\"price\" style=\"display: none;\">$149.99</p>,\n",
       " <p class=\"colors\">Available colors: Black, Silver, Gold</p>,\n",
       " <p>© 2024 Web Scraping Practice. All Rights Reserved.</p>]"
      ]
     },
     "execution_count": 10,
     "metadata": {},
     "output_type": "execute_result"
    }
   ],
   "source": [
    "paragraph = soup .find_all('p')\n",
    "paragraph"
   ]
  },
  {
   "cell_type": "code",
   "execution_count": 12,
   "id": "ed75744c-7adc-47f2-b412-37393282a608",
   "metadata": {},
   "outputs": [
    {
     "data": {
      "text/plain": [
       "'Welcome to the web scraping task! Use your skills to extract the required data from this page.'"
      ]
     },
     "execution_count": 12,
     "metadata": {},
     "output_type": "execute_result"
    }
   ],
   "source": [
    "paragraph[0].get_text()"
   ]
  },
  {
   "cell_type": "code",
   "execution_count": 14,
   "id": "75524640-a2a8-4601-9c80-a7973a30fe53",
   "metadata": {},
   "outputs": [
    {
     "data": {
      "text/plain": [
       "[<h1>Web Scraping Practice</h1>]"
      ]
     },
     "execution_count": 14,
     "metadata": {},
     "output_type": "execute_result"
    }
   ],
   "source": [
    "heading1 = soup .find_all('h1')\n",
    "heading1"
   ]
  },
  {
   "cell_type": "code",
   "execution_count": 16,
   "id": "1824947b-b703-4e95-a67b-4bc4ea5c0428",
   "metadata": {},
   "outputs": [
    {
     "data": {
      "text/plain": [
       "'Web Scraping Practice'"
      ]
     },
     "execution_count": 16,
     "metadata": {},
     "output_type": "execute_result"
    }
   ],
   "source": [
    "heading1[0].get_text()"
   ]
  },
  {
   "cell_type": "code",
   "execution_count": 18,
   "id": "cfe47aa4-6104-4328-a961-f1431f4f9103",
   "metadata": {
    "scrolled": true
   },
   "outputs": [
    {
     "data": {
      "text/plain": [
       "[<h2>Available Products</h2>,\n",
       " <h2>Product Table</h2>,\n",
       " <h2>Watch This Video</h2>,\n",
       " <h2>Contact Us</h2>,\n",
       " <h2>Product Information</h2>,\n",
       " <h2>Featured Products</h2>]"
      ]
     },
     "execution_count": 18,
     "metadata": {},
     "output_type": "execute_result"
    }
   ],
   "source": [
    "heading2 = soup .find_all('h2')\n",
    "heading2"
   ]
  },
  {
   "cell_type": "code",
   "execution_count": 20,
   "id": "39147360-4973-47e0-8602-e09a1c326cfd",
   "metadata": {},
   "outputs": [
    {
     "name": "stdout",
     "output_type": "stream",
     "text": [
      "Available Products\n",
      "Product Table\n",
      "Watch This Video\n",
      "Contact Us\n",
      "Product Information\n",
      "Featured Products\n"
     ]
    }
   ],
   "source": [
    "for i in heading2:\n",
    "    print(i.get_text())"
   ]
  },
  {
   "cell_type": "code",
   "execution_count": 22,
   "id": "7351fea8-60dc-4e57-a35c-ee2b7e48ea3e",
   "metadata": {},
   "outputs": [
    {
     "data": {
      "text/plain": [
       "[<li class=\"highlight\">Laptop</li>,\n",
       " <li>Smartphone</li>,\n",
       " <li>Tablet</li>,\n",
       " <li>Smartwatch</li>]"
      ]
     },
     "execution_count": 22,
     "metadata": {},
     "output_type": "execute_result"
    }
   ],
   "source": [
    "line = soup .find_all('li')\n",
    "line"
   ]
  },
  {
   "cell_type": "code",
   "execution_count": 48,
   "id": "2abc2394-0b0d-4427-baf2-09fafdb93e94",
   "metadata": {
    "collapsed": true,
    "jupyter": {
     "outputs_hidden": true
    },
    "scrolled": true
   },
   "outputs": [
    {
     "name": "stdout",
     "output_type": "stream",
     "text": [
      "\n",
      "Extracted heading and paragraph:\n",
      "{\n",
      "     \"Heading\": [\n",
      "          \"Available Products\",\n",
      "          \"Product Table\",\n",
      "          \"Watch This Video\",\n",
      "          \"Contact Us\",\n",
      "          \"Product Information\",\n",
      "          \"Featured Products\"\n",
      "     ],\n",
      "     \"Paragraphs\": [\n",
      "          \"Welcome to the web scraping task! Use your skills to extract the required data from this page.\",\n",
      "          \"Sharp Objects\",\n",
      "          \"\\u00a347.82\",\n",
      "          \"\\u2714 In stock\",\n",
      "          \"In a Dark, Dark Wood\",\n",
      "          \"\\u00a319.63\",\n",
      "          \"\\u2714 In stock\",\n",
      "          \"The Past Never Ends\",\n",
      "          \"\\u00a356.50\",\n",
      "          \"\\u2714 In stock\",\n",
      "          \"A Murder in Time\",\n",
      "          \"\\u00a316.64\",\n",
      "          \" Out stock\",\n",
      "          \"Wireless Headphones\",\n",
      "          \"$49.99\",\n",
      "          \"Available colors: Black, White, Blue\",\n",
      "          \"Smart Speaker\",\n",
      "          \"$89.99\",\n",
      "          \"Available colors: Grey, Black\",\n",
      "          \"Smart Watch\",\n",
      "          \"$149.99\",\n",
      "          \"Available colors: Black, Silver, Gold\",\n",
      "          \"\\u00a9 2024 Web Scraping Practice. All Rights Reserved.\"\n",
      "     ]\n",
      "}\n"
     ]
    }
   ],
   "source": [
    "#task 1\n",
    "paragraphs =[p.get_text()for p in paragraph]\n",
    "headings =[h.get_text()for h in heading1]\n",
    "headings2 =[h2.get_text()for h2 in heading2]\n",
    "\n",
    "print(\"\\nExtracted heading and paragraph:\")\n",
    "Data = {\n",
    "    \"Heading\" : headings ,\n",
    "    \"Heading\" : headings2 ,\n",
    "    \"Paragraphs\" : paragraphs\n",
    "}\n",
    "\n",
    "Data_json=json.dumps(Data , indent=5)\n",
    "print (Data_json)\n",
    "\n",
    "with open('Data', 'w') as json_file:\n",
    "    json.dump(Data, json_file, indent=5)"
   ]
  },
  {
   "cell_type": "code",
   "execution_count": 26,
   "id": "8c310d52-101a-4d8d-847c-fc7c6776f145",
   "metadata": {
    "collapsed": true,
    "jupyter": {
     "outputs_hidden": true
    },
    "scrolled": true
   },
   "outputs": [
    {
     "name": "stdout",
     "output_type": "stream",
     "text": [
      "\n",
      "Extracted Table Data:\n",
      "- {'Product Name': 'Laptop', 'Price': '$1000', 'Stock Status': 'Yes'}\n",
      "- {'Product Name': 'Smartphone', 'Price': '$800', 'Stock Status': 'No'}\n",
      "- {'Product Name': 'Tablet', 'Price': '$500', 'Stock Status': 'Yes'}\n"
     ]
    }
   ],
   "source": [
    "#task 2\n",
    "tables = soup.find_all(\"table\")\n",
    "table_data = []\n",
    "\n",
    "if tables:\n",
    "    rows = tables[0].find_all('tr')[1:]\n",
    "    for row in rows:\n",
    "        cells = row.find_all('td')\n",
    "\n",
    "        if len(cells) >= 3:\n",
    "            product_name = cells[0].get_text(strip=True)  \n",
    "            price = cells[1].get_text(strip=True)         \n",
    "            stock_status = cells[2].get_text(strip=True)  \n",
    "            \n",
    "            table_data.append({\n",
    "                \"Product Name\": product_name,\n",
    "                \"Price\": price,\n",
    "                \"Stock Status\": stock_status\n",
    "            })\n",
    "        else:\n",
    "            print(f\"Skipped a row because it didn't have enough data: {row}\")\n",
    "\n",
    "print(\"\\nExtracted Table Data:\")\n",
    "for item in table_data:\n",
    "    print(f\"- {item}\")\n",
    "\n",
    "Extract_Table_Data = {\n",
    "    'H1 Headings': [],\n",
    "    'H2 Headings': [],\n",
    "    'Paragraphs': [],\n",
    "    'List Items': [],  \n",
    "    'Table Data': table_data\n",
    "}\n",
    "\n",
    "with open('Extract_Table_Data.json', 'w') as json_file:\n",
    "    json.dump(Extract_Table_Data, json_file, indent=5)"
   ]
  },
  {
   "cell_type": "code",
   "execution_count": 29,
   "id": "6d037f76-8673-46d4-9fca-ce1abee0cb18",
   "metadata": {
    "collapsed": true,
    "jupyter": {
     "outputs_hidden": true
    }
   },
   "outputs": [
    {
     "name": "stdout",
     "output_type": "stream",
     "text": [
      "\n",
      "Extracted Product Information:\n",
      "- Book Title: No title\n",
      "  Price: No price\n",
      "  Stock Availability: No stock info\n",
      "  Button Text: Add to Basket\n",
      "- Book Title: No title\n",
      "  Price: No price\n",
      "  Stock Availability: No stock info\n",
      "  Button Text: Add to Basket\n",
      "- Book Title: No title\n",
      "  Price: No price\n",
      "  Stock Availability: No stock info\n",
      "  Button Text: Add to Basket\n"
     ]
    }
   ],
   "source": [
    "# task 3\n",
    "product_cards = soup.find_all('div', class_='product-card')\n",
    "products = []\n",
    "\n",
    "if product_cards:\n",
    "    for card in product_cards:\n",
    "    \n",
    "        title = card.find('h2').text.strip() if card.find('h2') else \"No title\"\n",
    "    \n",
    "        price = card.find('span', class_='price').text.strip() if card.find('span', class_='price') else \"No price\"\n",
    "        \n",
    "        stock = card.find('span', class_='stock-status').text.strip() if card.find('span', class_='stock-status') else \"No stock info\"\n",
    "        \n",
    "        button_text = card.find('button').text.strip() if card.find('button') else \"No button text\"\n",
    "        \n",
    "        products.append({\n",
    "            \"Book Title\": title,\n",
    "            \"Price\": price,\n",
    "            \"Stock Availability\": stock,\n",
    "            \"Button Text\": button_text\n",
    "        })\n",
    "else:\n",
    "    print(\"No product cards were found on the page.\")\n",
    "\n",
    "print(\"\\nExtracted Product Information:\")\n",
    "for product in products:\n",
    "    print(f\"- Book Title: {product['Book Title']}\")\n",
    "    print(f\"  Price: {product['Price']}\")\n",
    "    print(f\"  Stock Availability: {product['Stock Availability']}\")\n",
    "    print(f\"  Button Text: {product['Button Text']}\")\n",
    "\n",
    "with open('Product_Information.json', 'w') as json_file:\n",
    "    json.dump(products, json_file, indent=4)"
   ]
  },
  {
   "cell_type": "code",
   "execution_count": 32,
   "id": "9563f51d-0b85-40b4-b0a7-af6fb3d781a7",
   "metadata": {
    "collapsed": true,
    "jupyter": {
     "outputs_hidden": true
    }
   },
   "outputs": [
    {
     "name": "stdout",
     "output_type": "stream",
     "text": [
      "\n",
      "Extracted Form Details:\n",
      "Form Action: No action\n",
      "Form Method: GET\n",
      "Fields:\n",
      "  - Field Name: username\n",
      "    Input Type: text\n",
      "    Default Value: No default value\n",
      "  - Field Name: password\n",
      "    Input Type: password\n",
      "    Default Value: No default value\n",
      "  - Field Name: terms\n",
      "    Input Type: checkbox\n",
      "    Default Value: No default value\n",
      "  - Field Name: No name\n",
      "    Input Type: submit\n",
      "    Default Value: Submit\n"
     ]
    }
   ],
   "source": [
    "forms = soup.find_all('form')\n",
    "form_data = []\n",
    "\n",
    "if forms:\n",
    "    for form in forms:\n",
    "        form_details = {\n",
    "            \"Form Action\": form.get('action', \"No action\"),\n",
    "            \"Form Method\": form.get('method', \"GET\").upper(),\n",
    "            \"Fields\": []\n",
    "        }\n",
    "\n",
    "        input_fields = form.find_all('input')\n",
    "        for field in input_fields:\n",
    "            field_details = {\n",
    "                \"Field Name\": field.get('name', \"No name\"),\n",
    "                \"Input Type\": field.get('type', \"text\"),\n",
    "                \"Default Value\": field.get('value', \"No default value\")\n",
    "            }\n",
    "            form_details[\"Fields\"].append(field_details)\n",
    "        \n",
    "        form_data.append(form_details)\n",
    "\n",
    "\n",
    "print(\"\\nExtracted Form Details:\")\n",
    "for form in form_data:\n",
    "    print(f\"Form Action: {form['Form Action']}\")\n",
    "    print(f\"Form Method: {form['Form Method']}\")\n",
    "    print(\"Fields:\")\n",
    "    for field in form[\"Fields\"]:\n",
    "        print(f\"  - Field Name: {field['Field Name']}\")\n",
    "        print(f\"    Input Type: {field['Input Type']}\")\n",
    "        print(f\"    Default Value: {field['Default Value']}\")\n",
    "\n",
    "\n",
    "with open('Form_Details.json', 'w') as json_file:\n",
    "    json.dump(form_data, json_file, indent=4)\n"
   ]
  }
 ],
 "metadata": {
  "kernelspec": {
   "display_name": "Python 3 (ipykernel)",
   "language": "python",
   "name": "python3"
  },
  "language_info": {
   "codemirror_mode": {
    "name": "ipython",
    "version": 3
   },
   "file_extension": ".py",
   "mimetype": "text/x-python",
   "name": "python",
   "nbconvert_exporter": "python",
   "pygments_lexer": "ipython3",
   "version": "3.12.7"
  }
 },
 "nbformat": 4,
 "nbformat_minor": 5
}
